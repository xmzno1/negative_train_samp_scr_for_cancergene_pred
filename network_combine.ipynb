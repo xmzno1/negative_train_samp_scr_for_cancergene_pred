{
 "cells": [
  {
   "cell_type": "code",
   "execution_count": 12,
   "id": "a94d4168-9aca-49a4-a8d2-a76896e9bac5",
   "metadata": {},
   "outputs": [],
   "source": [
    "from network_proc import *"
   ]
  },
  {
   "cell_type": "code",
   "execution_count": 21,
   "id": "3753e3da-2e52-4084-8764-2068da2ba1db",
   "metadata": {},
   "outputs": [],
   "source": [
    "file_pre = 'Shared_protein_domains'\n",
    "directory = r'.\\selected\\Shared_protein_domains'\n",
    "weighted_net_file_sufix = '.wt'\n",
    "dest_directory = r'.\\combined\\Shared_protein_domains'"
   ]
  },
  {
   "cell_type": "code",
   "execution_count": 22,
   "id": "6dbb28e4-3cd3-4a64-9616-9e22e5624916",
   "metadata": {},
   "outputs": [],
   "source": [
    "net_files_attri = get_net_files_attri(directory = directory)\n",
    "write_weighted_net_files(net_files_attri['net_max_edge_weight'], net_files_attri['net_weight'], directory = directory, filesufix = weighted_net_file_sufix)"
   ]
  },
  {
   "cell_type": "code",
   "execution_count": 23,
   "id": "247b63c2-9b55-468c-b578-270ec237fb6c",
   "metadata": {},
   "outputs": [],
   "source": [
    "G = nx.Graph()\n",
    "for filename in os.listdir(directory):\n",
    "    if filename.endswith(weighted_net_file_sufix):\n",
    "        full_path = os.path.join(directory, filename)\n",
    "        with open(full_path, 'r') as read_obj:\n",
    "            tmp = []\n",
    "            for line in read_obj:\n",
    "                tmp = line.split()\n",
    "                merge_edge_weight(G, tmp[0], tmp[1], float(tmp[2]))"
   ]
  },
  {
   "cell_type": "code",
   "execution_count": 24,
   "id": "32382edd-26a2-485d-996d-c3ea2842c36f",
   "metadata": {},
   "outputs": [
    {
     "data": {
      "text/plain": [
       "17509"
      ]
     },
     "execution_count": 24,
     "metadata": {},
     "output_type": "execute_result"
    }
   ],
   "source": [
    "G.number_of_nodes()"
   ]
  },
  {
   "cell_type": "code",
   "execution_count": 25,
   "id": "cefd6556-1333-4ef4-9d78-5ea9ce348b86",
   "metadata": {},
   "outputs": [
    {
     "data": {
      "text/plain": [
       "742621"
      ]
     },
     "execution_count": 25,
     "metadata": {},
     "output_type": "execute_result"
    }
   ],
   "source": [
    "G.number_of_edges()"
   ]
  },
  {
   "cell_type": "code",
   "execution_count": 26,
   "id": "997a4c58-eda0-425d-a168-c480613bdd16",
   "metadata": {},
   "outputs": [],
   "source": [
    "nx.write_weighted_edgelist(G, os.path.join(dest_directory, file_pre + '-combined'))"
   ]
  },
  {
   "cell_type": "markdown",
   "id": "54822267-191e-4e78-b763-ce5b6abc575f",
   "metadata": {},
   "source": [
    "## Combine all together ##"
   ]
  },
  {
   "cell_type": "code",
   "execution_count": 14,
   "id": "e0974281-40a2-4032-95bf-84044282d3a4",
   "metadata": {},
   "outputs": [],
   "source": [
    "file_pre = 'all'\n",
    "directory = r'.\\combined\\all'\n",
    "aucs_filename = \"auc-all.txt\"\n",
    "net_sufix = 'comb'\n",
    "weighted_net_file_sufix = '.wt'\n",
    "dest_directory = r'.\\combined\\all'"
   ]
  },
  {
   "cell_type": "code",
   "execution_count": 5,
   "id": "50610403-eedf-474a-bae9-b75bc0c186dc",
   "metadata": {},
   "outputs": [],
   "source": [
    "net_files_attri = get_net_files_attri(directory = directory, net_sufix = net_sufix)"
   ]
  },
  {
   "cell_type": "code",
   "execution_count": 6,
   "id": "b6185660-6674-4368-8bc7-f67c9a4286ff",
   "metadata": {},
   "outputs": [
    {
     "data": {
      "text/plain": [
       "{'Co-expression-combined.comb': 0.39145896299018434,\n",
       " 'Co-localization-combined.comb': 0.9133986928104575,\n",
       " 'Genetic_Interactions-combined.comb': 0.9990735562259475,\n",
       " 'Pathway-combined.comb': 0.9810538253705289,\n",
       " 'Physical_Interactions-combined.comb': 0.8406570516877284,\n",
       " 'Predicted-combined.comb': 0.6645050352152015,\n",
       " 'Shared_protein_domains-combined.comb': 1.0}"
      ]
     },
     "execution_count": 6,
     "metadata": {},
     "output_type": "execute_result"
    }
   ],
   "source": [
    "net_files_attri['net_max_edge_weight']"
   ]
  },
  {
   "cell_type": "code",
   "execution_count": 10,
   "id": "dbd2483d-30b5-454e-8a0d-c0c3ea12367b",
   "metadata": {},
   "outputs": [],
   "source": [
    "### read every net's auc as the combining net weight ###\n",
    "combine_net_aucs = {}\n",
    "full_path = os.path.join(directory, aucs_filename)\n",
    "with open(full_path, 'r') as read_obj:\n",
    "    tmp = []\n",
    "    for line in read_obj:\n",
    "        tmp = line.split()\n",
    "        combine_net_aucs[tmp[0]] = float(tmp[1])"
   ]
  },
  {
   "cell_type": "code",
   "execution_count": 11,
   "id": "4da55490-8d94-4662-986a-de54aacdb0c4",
   "metadata": {},
   "outputs": [
    {
     "data": {
      "text/plain": [
       "{'Co-expression-combined.comb': 0.6447041847041846,\n",
       " 'Co-localization-combined.comb': 0.633979591836734,\n",
       " 'Genetic_Interactions-combined.comb': 0.6185928143712577,\n",
       " 'Pathway-combined.comb': 0.680187891440501,\n",
       " 'Physical_Interactions-combined.comb': 0.7415983026874113,\n",
       " 'Predicted-combined.comb': 0.6866978193146417,\n",
       " 'Shared_protein_domains-combined.comb': 0.6246597633136095}"
      ]
     },
     "execution_count": 11,
     "metadata": {},
     "output_type": "execute_result"
    }
   ],
   "source": [
    "combine_net_aucs"
   ]
  },
  {
   "cell_type": "code",
   "execution_count": 13,
   "id": "4bf1bf7b-5efc-4d6b-ae0b-f322f0f08d3f",
   "metadata": {},
   "outputs": [],
   "source": [
    "write_weighted_net_files(net_files_attri['net_max_edge_weight'], combine_net_aucs, directory = directory, filesufix = weighted_net_file_sufix)"
   ]
  },
  {
   "cell_type": "code",
   "execution_count": 15,
   "id": "48e9d6d7-2a64-4a0a-83c2-b81d499e66ca",
   "metadata": {},
   "outputs": [],
   "source": [
    "G = nx.Graph()\n",
    "for filename in os.listdir(directory):\n",
    "    if filename.endswith(weighted_net_file_sufix):\n",
    "        full_path = os.path.join(directory, filename)\n",
    "        with open(full_path, 'r') as read_obj:\n",
    "            tmp = []\n",
    "            for line in read_obj:\n",
    "                tmp = line.split()\n",
    "                merge_edge_weight(G, tmp[0], tmp[1], float(tmp[2]))"
   ]
  },
  {
   "cell_type": "code",
   "execution_count": 16,
   "id": "28f33b43-d4f4-4ad7-818e-0b34bf89b5cd",
   "metadata": {},
   "outputs": [
    {
     "data": {
      "text/plain": [
       "19571"
      ]
     },
     "execution_count": 16,
     "metadata": {},
     "output_type": "execute_result"
    }
   ],
   "source": [
    "G.number_of_nodes()"
   ]
  },
  {
   "cell_type": "code",
   "execution_count": 17,
   "id": "14b79fce-6fad-490b-8cd0-3029b752cb15",
   "metadata": {},
   "outputs": [
    {
     "data": {
      "text/plain": [
       "7685139"
      ]
     },
     "execution_count": 17,
     "metadata": {},
     "output_type": "execute_result"
    }
   ],
   "source": [
    "G.number_of_edges()"
   ]
  },
  {
   "cell_type": "code",
   "execution_count": 18,
   "id": "9fa87611-b551-498d-9505-e6774db80320",
   "metadata": {},
   "outputs": [],
   "source": [
    "nx.write_weighted_edgelist(G, os.path.join(dest_directory, file_pre + '-combined'))"
   ]
  },
  {
   "cell_type": "code",
   "execution_count": null,
   "id": "8cd85ecc-4602-43d3-9e4c-e4c0ca8c45a3",
   "metadata": {},
   "outputs": [],
   "source": []
  }
 ],
 "metadata": {
  "kernelspec": {
   "display_name": "Python 3 (ipykernel)",
   "language": "python",
   "name": "python3"
  },
  "language_info": {
   "codemirror_mode": {
    "name": "ipython",
    "version": 3
   },
   "file_extension": ".py",
   "mimetype": "text/x-python",
   "name": "python",
   "nbconvert_exporter": "python",
   "pygments_lexer": "ipython3",
   "version": "3.9.12"
  }
 },
 "nbformat": 4,
 "nbformat_minor": 5
}
