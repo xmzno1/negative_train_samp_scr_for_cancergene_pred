{
 "cells": [
  {
   "cell_type": "code",
   "execution_count": 2,
   "id": "277b76f2-104f-47e9-84b3-21672f0514f0",
   "metadata": {},
   "outputs": [],
   "source": [
    "from network_proc import *"
   ]
  },
  {
   "cell_type": "code",
   "execution_count": 3,
   "id": "2d4d601c-c37f-431a-a5bb-d996e109edcc",
   "metadata": {},
   "outputs": [],
   "source": [
    "cancer_gene_names_list = load_cancer_gene_name_from_file(filename = \"cg-2022-06.csv\")\n",
    "gene_names_dict, gene_ids_dict = load_gene_mapping_from_file(filename = \"identifier_mappings.txt\")"
   ]
  },
  {
   "cell_type": "code",
   "execution_count": 4,
   "id": "aa5644d4-5c46-48d8-9f2b-2a18d0e9906b",
   "metadata": {},
   "outputs": [],
   "source": [
    "file_pre = \"All\"\n",
    "comb_directory = r'.\\importance\\all-combined'"
   ]
  },
  {
   "cell_type": "code",
   "execution_count": 5,
   "id": "2c29bb22-521c-4826-aa95-1810614f4596",
   "metadata": {},
   "outputs": [],
   "source": [
    "filename = \"all-combined.txt\"\n",
    "filepath = os.path.join(comb_directory, filename)\n",
    "G = nx.Graph()\n",
    "G = nx.read_weighted_edgelist(filepath)"
   ]
  },
  {
   "cell_type": "code",
   "execution_count": 6,
   "id": "e7e768b0-ae81-40e5-becc-dfce073590f0",
   "metadata": {},
   "outputs": [],
   "source": [
    "nodes_imp = cal_nodes_imp(G)"
   ]
  },
  {
   "cell_type": "code",
   "execution_count": 7,
   "id": "19568a00-c0a1-4082-97bb-8f2a50d2ed6c",
   "metadata": {},
   "outputs": [],
   "source": [
    "nodes_imp_sorted_list = sorted(nodes_imp.items(), key = operator.itemgetter(1), reverse = True)\n",
    "x_fpr, y_tpr = cal_roc_xy(nodes_imp_sorted_list, cancer_gene_names_list, gene_names_dict, interval = 100)"
   ]
  },
  {
   "cell_type": "code",
   "execution_count": 8,
   "id": "93bdf4d9-2e25-4fd4-9d5c-304786783078",
   "metadata": {},
   "outputs": [],
   "source": [
    "network_aucs = auc(y_tpr)"
   ]
  },
  {
   "cell_type": "code",
   "execution_count": 9,
   "id": "61051510-d676-4091-a2d1-4401110863d3",
   "metadata": {},
   "outputs": [
    {
     "data": {
      "text/plain": [
       "0.7121288515406168"
      ]
     },
     "execution_count": 9,
     "metadata": {},
     "output_type": "execute_result"
    }
   ],
   "source": [
    "filepath = os.path.join(comb_directory, file_pre + '-auc.tsv')\n",
    "with open(filepath, 'w') as write_obj:\n",
    "    write_obj.write(file_pre + '\\t' + str(network_aucs) + '\\n')\n",
    "network_aucs"
   ]
  },
  {
   "cell_type": "code",
   "execution_count": 10,
   "id": "72966170-d7b1-445e-a362-23ef19b29b56",
   "metadata": {},
   "outputs": [
    {
     "data": {
      "image/png": "[encoded data removed]",
      "text/plain": [
       "<Figure size 432x288 with 1 Axes>"
      ]
     },
     "metadata": {
      "needs_background": "light"
     },
     "output_type": "display_data"
    }
   ],
   "source": [
    "plt.plot(x_fpr, y_tpr)\n",
    "plt.show()"
   ]
  },
  {
   "cell_type": "code",
   "execution_count": 11,
   "id": "c76557dc-3067-4776-95a3-f6b75ff5e9bc",
   "metadata": {},
   "outputs": [],
   "source": [
    "filepath = os.path.join(comb_directory, file_pre + '-gene-imp.tsv')\n",
    "with open(filepath, 'w') as write_obj:\n",
    "    for edge in nodes_imp_sorted_list:\n",
    "        write_obj.write(edge[0] + '\\t' + str(edge[1]) + '\\n')"
   ]
  },
  {
   "cell_type": "code",
   "execution_count": 12,
   "id": "df292cb4-d60d-4e63-9a7c-0330719bcd69",
   "metadata": {},
   "outputs": [],
   "source": [
    "filepath = os.path.join(comb_directory, file_pre + '-fpr-tpr.tsv')\n",
    "with open(filepath, 'w') as write_obj:\n",
    "    for i in range(len(x_fpr)):\n",
    "        write_obj.write(str(x_fpr[i]) + '\\t' + str(y_tpr[i]) + '\\n')"
   ]
  },
  {
   "cell_type": "code",
   "execution_count": null,
   "id": "a12e87f5-6517-4bbd-9706-9633d43f5c62",
   "metadata": {},
   "outputs": [],
   "source": []
  }
 ],
 "metadata": {
  "kernelspec": {
   "display_name": "Python 3 (ipykernel)",
   "language": "python",
   "name": "python3"
  },
  "language_info": {
   "codemirror_mode": {
    "name": "ipython",
    "version": 3
   },
   "file_extension": ".py",
   "mimetype": "text/x-python",
   "name": "python",
   "nbconvert_exporter": "python",
   "pygments_lexer": "ipython3",
   "version": "3.9.12"
  }
 },
 "nbformat": 4,
 "nbformat_minor": 5
}
