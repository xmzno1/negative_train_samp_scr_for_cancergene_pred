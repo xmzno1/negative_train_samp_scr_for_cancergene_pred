{
 "cells": [
  {
   "cell_type": "code",
   "execution_count": 1,
   "id": "f81cb0c7-2776-4413-96b3-1cada7b4e7d4",
   "metadata": {},
   "outputs": [],
   "source": [
    "from network_proc import *"
   ]
  },
  {
   "cell_type": "code",
   "execution_count": 2,
   "id": "55082790-2c0f-4aae-8396-d494bb78c518",
   "metadata": {},
   "outputs": [],
   "source": [
    "cancer_gene_names_list = load_cancer_gene_name_from_file(filename = \"cg-2022-06.csv\")\n",
    "gene_names_dict, gene_ids_dict = load_gene_mapping_from_file(filename = \"identifier_mappings.txt\")"
   ]
  },
  {
   "cell_type": "code",
   "execution_count": 14,
   "id": "6264a177-cbb5-415c-8b5a-b64016fa1ca5",
   "metadata": {},
   "outputs": [],
   "source": [
    "directory = r'.\\selected\\Mania_Combined'"
   ]
  },
  {
   "cell_type": "code",
   "execution_count": 12,
   "id": "47a2efa1-3dec-492b-bf4a-e71fda3eb436",
   "metadata": {},
   "outputs": [],
   "source": [
    "###  remove the header of file  ###\n",
    "for filename in os.listdir(directory):\n",
    "    if filename.endswith(\".txt\"):\n",
    "        full_path_name = os.path.join(directory, filename)\n",
    "        delete_line(full_path_name, 0)\n",
    "    else:\n",
    "        continue"
   ]
  },
  {
   "cell_type": "code",
   "execution_count": 13,
   "id": "ccd6a3a7-bc27-483d-bf1c-fea69b02c323",
   "metadata": {},
   "outputs": [],
   "source": [
    "network_aucs = {}\n",
    "for filename in os.listdir(directory):\n",
    "    if filename.endswith(\".txt\"):\n",
    "        full_path_name = os.path.join(directory, filename)\n",
    "        G = load_weighted_G_from_file(full_path_name)\n",
    "        sort_gene_cen_list = cal_comb_weight_cen_sortedlist(G)\n",
    "        x_fpr, y_tpr = cal_roc_xy(sort_gene_cen_list, cancer_gene_names_list, gene_names_dict, interval = 100)\n",
    "        network_aucs[filename] = auc(y_tpr)\n",
    "    else:\n",
    "        continue"
   ]
  },
  {
   "cell_type": "code",
   "execution_count": 15,
   "id": "1474f7e1-56fd-4a91-9273-6650a62ce806",
   "metadata": {},
   "outputs": [],
   "source": [
    "network_aucs_sorted = sorted(network_aucs.items(), key = operator.itemgetter(1), reverse = True)"
   ]
  },
  {
   "cell_type": "code",
   "execution_count": 16,
   "id": "d49945ee-6175-44ce-a206-60086eb873c0",
   "metadata": {},
   "outputs": [],
   "source": [
    "with open('combined-net-scores.tsv', 'wt') as out_file:\n",
    "    tsv_writer = csv.writer(out_file, delimiter='\\t')\n",
    "    tsv_writer.writerow(['network name', 'score'])\n",
    "    for net in network_aucs_sorted:\n",
    "        tsv_writer.writerow(net)    "
   ]
  },
  {
   "cell_type": "markdown",
   "id": "f79e509e-25da-4faf-9303-1e3000d80197",
   "metadata": {},
   "source": [
    "# Check combined network #"
   ]
  },
  {
   "cell_type": "code",
   "execution_count": 3,
   "id": "e87990ee-ac3f-4e1c-a2e0-f4c660e8efc2",
   "metadata": {},
   "outputs": [],
   "source": [
    "file_pre = \"COMBINED\"\n",
    "comb_directory = r'.\\selected\\Mania_Combined'"
   ]
  },
  {
   "cell_type": "code",
   "execution_count": 4,
   "id": "b1d3eaeb-2a34-4c1c-a30d-cc33e522037d",
   "metadata": {},
   "outputs": [],
   "source": [
    "network_aucs = {}\n",
    "for filename in os.listdir(comb_directory):\n",
    "    if filename.startswith(file_pre):\n",
    "        full_path_name = os.path.join(comb_directory, filename)\n",
    "        G = load_weighted_G_from_file(full_path_name)\n",
    "        sort_gene_cen_list = cal_comb_weight_cen_sortedlist(G, large_net = True)\n",
    "        x_fpr, y_tpr = cal_roc_xy(sort_gene_cen_list, cancer_gene_names_list, gene_names_dict, interval = 100)\n",
    "        network_aucs[filename] = auc(y_tpr)\n",
    "    else:\n",
    "        continue"
   ]
  },
  {
   "cell_type": "code",
   "execution_count": 5,
   "id": "d1a3bf08-4fdc-44f4-b22b-cce8b6b5bb1a",
   "metadata": {},
   "outputs": [
    {
     "data": {
      "text/plain": [
       "('COMBINED.DEFAULT_NETWORKS.BP_COMBINING.txt', 0.766820728291317)"
      ]
     },
     "execution_count": 5,
     "metadata": {},
     "output_type": "execute_result"
    }
   ],
   "source": [
    "filepath = os.path.join(comb_directory, file_pre + '-auc.tsv')\n",
    "with open(filepath, 'w') as write_obj:\n",
    "    write_obj.write(list(network_aucs.items())[0][0] + '\\t' + str(list(network_aucs.items())[0][1]) + '\\n')\n",
    "list(network_aucs.items())[0]"
   ]
  },
  {
   "cell_type": "code",
   "execution_count": 6,
   "id": "32c07683-5385-4380-bb84-b7be6c2b0a36",
   "metadata": {},
   "outputs": [
    {
     "data": {
      "image/png": "[encoded data removed]",
      "text/plain": [
       "<Figure size 432x288 with 1 Axes>"
      ]
     },
     "metadata": {
      "needs_background": "light"
     },
     "output_type": "display_data"
    }
   ],
   "source": [
    "plt.plot(x_fpr, y_tpr)\n",
    "plt.show()"
   ]
  },
  {
   "cell_type": "code",
   "execution_count": 7,
   "id": "b53e6c53-7752-4378-9e14-74fed5f2b66e",
   "metadata": {},
   "outputs": [],
   "source": [
    "filepath = os.path.join(comb_directory, file_pre + '-gene-cent.tsv')\n",
    "with open(filepath, 'w') as write_obj:\n",
    "    for edge in sort_gene_cen_list:\n",
    "        write_obj.write(edge[0] + '\\t' + str(edge[1]) + '\\n')"
   ]
  },
  {
   "cell_type": "code",
   "execution_count": 8,
   "id": "95b19e20-8189-4ffb-b80e-4df9e4bff60a",
   "metadata": {},
   "outputs": [],
   "source": [
    "filepath = os.path.join(comb_directory, file_pre + '-fpr-tpr.tsv')\n",
    "with open(filepath, 'w') as write_obj:\n",
    "    for i in range(len(x_fpr)):\n",
    "        write_obj.write(str(x_fpr[i]) + '\\t' + str(y_tpr[i]) + '\\n')"
   ]
  },
  {
   "cell_type": "code",
   "execution_count": null,
   "id": "33bb06e7-60dd-408e-b5db-40bbad9f5c6c",
   "metadata": {},
   "outputs": [],
   "source": []
  }
 ],
 "metadata": {
  "kernelspec": {
   "display_name": "Python 3 (ipykernel)",
   "language": "python",
   "name": "python3"
  },
  "language_info": {
   "codemirror_mode": {
    "name": "ipython",
    "version": 3
   },
   "file_extension": ".py",
   "mimetype": "text/x-python",
   "name": "python",
   "nbconvert_exporter": "python",
   "pygments_lexer": "ipython3",
   "version": "3.9.12"
  }
 },
 "nbformat": 4,
 "nbformat_minor": 5
}
