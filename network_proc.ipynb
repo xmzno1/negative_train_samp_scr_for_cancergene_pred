{
 "cells": [
  {
   "cell_type": "code",
   "execution_count": null,
   "id": "8668fcc7-0dca-42fc-9a1a-70e1e0ee9227",
   "metadata": {},
   "outputs": [],
   "source": [
    "import operator\n",
    "import csv\n",
    "import matplotlib.pyplot as plt\n",
    "import networkx as nx"
   ]
  },
  {
   "cell_type": "code",
   "execution_count": null,
   "id": "91b35956-5dee-48cd-8260-993434cae8fb",
   "metadata": {},
   "outputs": [],
   "source": [
    "def load_cancer_gene_name_from_file(filename = \"cg-2022-06.csv\"):\n",
    "    fields = []\n",
    "    rows = []\n",
    "    with open(filename, 'r') as csvfile:\n",
    "        # creating a csv reader object\n",
    "        csvreader = csv.reader(csvfile)\n",
    "      \n",
    "        # extracting field names through first row\n",
    "        fields = next(csvreader)\n",
    "  \n",
    "        # extracting each data row one by one\n",
    "        for row in csvreader:\n",
    "            rows.append(row)\n",
    "    cancer_gene_names_list = []\n",
    "    for row in rows:\n",
    "        cancer_gene_names_list.append(row[0])\n",
    "    return cancer_gene_names_list"
   ]
  },
  {
   "cell_type": "code",
   "execution_count": null,
   "id": "07784806-d1ee-4e4e-b33c-39914c5fddda",
   "metadata": {},
   "outputs": [],
   "source": [
    "def load_gene_mapping_from_file(filename = \"identifier_mappings.txt\"):\n",
    "    fields = []\n",
    "    rows = []\n",
    "    with open(filename, 'r') as csvfile:\n",
    "        # creating a csv reader object\n",
    "        csvreader = csv.reader(csvfile, delimiter = \"\\t\")\n",
    "      \n",
    "        # extracting field names through first row\n",
    "        fields = next(csvreader)\n",
    "  \n",
    "        # extracting each data row one by one\n",
    "        for row in csvreader:\n",
    "            rows.append(row)\n",
    "    gene_names_dict = {}\n",
    "    gene_ids_dict = {}\n",
    "    for row in rows:\n",
    "        if row[2] == 'Gene Name':\n",
    "            gene_names_dict[row[0]] = row[1]\n",
    "            gene_ids_dict[row[1]] = row[0]\n",
    "    return gene_names_dict, gene_ids_dict"
   ]
  },
  {
   "cell_type": "code",
   "execution_count": null,
   "id": "7b9ff90e-8df3-454d-914b-8f97eb923c84",
   "metadata": {},
   "outputs": [],
   "source": [
    "def load_weighted_G_from_file(filename):\n",
    "    G = nx.Graph()\n",
    "    G = nx.read_weighted_edgelist(filename)"
   ]
  },
  {
   "cell_type": "code",
   "execution_count": null,
   "id": "e290ef86-f4e9-4baf-a815-f5b02bcf2309",
   "metadata": {},
   "outputs": [],
   "source": [
    "def cal_weight_deg_norm(G):\n",
    "    wt_deg = {}\n",
    "    for n, nbrs in G.adj.items():\n",
    "        wt_sum = 0\n",
    "        for nbr, eattr in nbrs.items():\n",
    "            wt = eattr['weight']\n",
    "            wt_sum += wt\n",
    "        wt_deg[n] = wt_sum\n",
    "    wt_deg_max = max(list(wt_deg.values()))\n",
    "    wt_deg_nor = {}\n",
    "    for g, g_deg in wt_deg.items():\n",
    "        wt_deg_nor[g] = g_deg/wt_deg_max\n",
    "    return wt_deg_nor"
   ]
  },
  {
   "cell_type": "code",
   "execution_count": null,
   "id": "b8dceab2-1131-4da5-a893-3420aae5f9e1",
   "metadata": {},
   "outputs": [],
   "source": [
    "def cal_weight_eigen_cen_norm(G):\n",
    "    cen_eigen = nx.katz_centrality(G,weight='weight')\n",
    "    cen_eigen_max = max(list(cen_eigen.values()))\n",
    "    cen_eigen_nor = {}\n",
    "    for g, g_cen in cen_eigen.items():\n",
    "        cen_eigen_nor[g] = g_cen/cen_eigen_max\n",
    "    return cen_eigen_nor"
   ]
  },
  {
   "cell_type": "code",
   "execution_count": null,
   "id": "3fd6b8e3-d893-46d9-9b81-842fd38c5f90",
   "metadata": {},
   "outputs": [],
   "source": [
    "def cal_comb_weight_cen_sortedlist(G):\n",
    "    wt_deg_nor = cal_weight_deg_norm(G)\n",
    "    cen_eigen_nor = cal_weight_eigen_cen_norm(G)\n",
    "    cen = {}\n",
    "    for g, g_deg in wt_deg_nor.items():\n",
    "        cen[g] = g_deg + cen_eigen_nor[g]\n",
    "    sortlist = sorted(cen.items(), key = operator.itemgetter(1), reverse = True)\n",
    "    return sortlist"
   ]
  },
  {
   "cell_type": "code",
   "execution_count": null,
   "id": "88d22f39-8972-450d-a854-4aa59cc7a666",
   "metadata": {},
   "outputs": [],
   "source": [
    "def is_tp(gene_id, cancer_gene_names_list, gene_names_dict):\n",
    "    if gene_names_dict[gene_id] in cancer_gene_names_list:\n",
    "        return True\n",
    "    else:\n",
    "        return False"
   ]
  },
  {
   "cell_type": "code",
   "execution_count": null,
   "id": "9951cb5d-6d2d-4b17-9f3e-cc6febdf674d",
   "metadata": {},
   "outputs": [],
   "source": [
    "def fpr(pred_p, pred_n):\n",
    "    fp_num = 0\n",
    "    for gene in pred_p:\n",
    "        if not is_tp(gene[0], cancer_gene_names_list, gene_names_dict):\n",
    "            fp_num += 1\n",
    "    tn_num = 0\n",
    "    for gene in pred_n:\n",
    "        if not is_tp(gene[0], cancer_gene_names_list, gene_names_dict):\n",
    "            tn_num += 1\n",
    "    return fp_num / (fp_num + tn_num)"
   ]
  },
  {
   "cell_type": "code",
   "execution_count": null,
   "id": "9b67fb74-d75f-4c0e-9721-1ded6b245244",
   "metadata": {},
   "outputs": [],
   "source": [
    "def tpr(pred_p, pred_n):\n",
    "    tp_num = 0\n",
    "    for gene in pred_p:\n",
    "        if is_tp(gene[0], cancer_gene_names_list, gene_names_dict):\n",
    "            tp_num += 1\n",
    "    fn_num = 0\n",
    "    for gene in pred_n:\n",
    "        if is_tp(gene[0], cancer_gene_names_list, gene_names_dict):\n",
    "            fn_num += 1\n",
    "    return tp_num / (tp_num + fn_num)"
   ]
  },
  {
   "cell_type": "code",
   "execution_count": null,
   "id": "5bce2d26-c1a8-4e49-9883-d0f96877eb20",
   "metadata": {},
   "outputs": [],
   "source": [
    "def cal_roc_xy(sort_gene_weights, interval = 100):\n",
    "    x_fpr = []\n",
    "    y_tpr = []\n",
    "    for i in range(1,interval):\n",
    "        clf_l = int(len(sortlist) * (1/interval) * i)\n",
    "        pred_p = sortlist[:clf_l]\n",
    "        pred_n = sortlist[clf_l:]\n",
    "        x_fpr.append(fpr(pred_p,pred_n))\n",
    "        y_tpr.append(tpr(pred_p,pred_n))\n",
    "    return x_fpr, y_tpr"
   ]
  },
  {
   "cell_type": "code",
   "execution_count": null,
   "id": "25cd7284-921b-4bab-a06b-0ca79840da94",
   "metadata": {},
   "outputs": [],
   "source": [
    "def auc(y_tpr):\n",
    "    area_sum = 0\n",
    "    for i in range(0, 99):\n",
    "        area_sum += y_tpr[i] * 0.01\n",
    "    return area_sum"
   ]
  }
 ],
 "metadata": {
  "kernelspec": {
   "display_name": "Python 3 (ipykernel)",
   "language": "python",
   "name": "python3"
  },
  "language_info": {
   "codemirror_mode": {
    "name": "ipython",
    "version": 3
   },
   "file_extension": ".py",
   "mimetype": "text/x-python",
   "name": "python",
   "nbconvert_exporter": "python",
   "pygments_lexer": "ipython3",
   "version": "3.9.12"
  }
 },
 "nbformat": 4,
 "nbformat_minor": 5
}
